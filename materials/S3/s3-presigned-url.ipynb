{
 "cells": [
  {
   "cell_type": "code",
   "execution_count": null,
   "metadata": {},
   "outputs": [],
   "source": [
    "'''\n",
    "\n",
    "presigned post: 用來上傳\n",
    "\n",
    "https://boto3.amazonaws.com/v1/documentation/api/latest/guide/s3-presigned-urls.html#generating-a-presigned-url-to-upload-a-file\n",
    "\n",
    "\n",
    "presigned url: 用來下載\n",
    "\n",
    "https://boto3.amazonaws.com/v1/documentation/api/latest/guide/s3-presigned-urls.html\n",
    "\n",
    "\n",
    "預先簽章的 POST 如同預先簽章的 URL，讓您可以授予使用者寫入權限，而無需提供他們 AWS 登入資料。\n",
    "\n",
    "'''"
   ]
  },
  {
   "cell_type": "code",
   "execution_count": null,
   "metadata": {},
   "outputs": [],
   "source": [
    "!pip install boto3 awscli requests"
   ]
  },
  {
   "cell_type": "code",
   "execution_count": null,
   "metadata": {},
   "outputs": [],
   "source": [
    "# 啟用客戶端\n",
    "\n",
    "import boto3\n",
    "\n",
    "s3_client = boto3.client('s3', endpoint_url='http://localstack-main:4566')\n",
    "\n",
    "s3_client"
   ]
  },
  {
   "cell_type": "code",
   "execution_count": null,
   "metadata": {},
   "outputs": [],
   "source": [
    "# list s3 buckets\n",
    "# if there is no bucket in s3, create one.\n",
    "\n",
    "response = s3_client.list_buckets()\n",
    "\n",
    "print(response)\n",
    "\n",
    "print(response.get('Buckets'))\n",
    "if response.get('Buckets') == []:\n",
    "\n",
    "    create_bucket_response = s3_client.create_bucket(\n",
    "        Bucket='cxcxc-aws-certificate',\n",
    "    )\n",
    "    \n",
    "    print(create_bucket_response)\n"
   ]
  },
  {
   "cell_type": "code",
   "execution_count": null,
   "metadata": {},
   "outputs": [],
   "source": [
    "# 先下載一個檔案，當作上傳練習素材\n",
    "\n",
    "import requests\n",
    "import json\n",
    "\n",
    "\n",
    "url = 'https://jsonplaceholder.typicode.com/posts'\n",
    "print(f'Beginning file download with requests from {url}')\n",
    "\n",
    "r = requests.get(url)\n",
    "\n",
    "with open('./posts.json', 'w') as f:\n",
    "    json.dump(r.json(), f)"
   ]
  },
  {
   "cell_type": "code",
   "execution_count": null,
   "metadata": {},
   "outputs": [],
   "source": [
    "# 取得 presigned post\n",
    "# 回傳 dict 內含 url 與 fields 欄位\n",
    "# 後續上傳物件時發 post request 至 url，並將 fields 連同欲上傳檔案一並提交\n",
    "\n",
    "presigned_post_response = s3_client.generate_presigned_post(\n",
    "    Bucket='cxcxc-aws-certificate',\n",
    "    Key='cxcxc-pre-sign-upload.json',\n",
    ")\n",
    "\n",
    "print(presigned_post_response)"
   ]
  },
  {
   "cell_type": "code",
   "execution_count": null,
   "metadata": {},
   "outputs": [],
   "source": [
    "# 使用 request 上傳至 presigned s3 post\n",
    "# Demonstrate how another Python program can use the presigned URL to upload a file\n",
    "\n",
    "with open('posts.json', 'r') as f:\n",
    "    files = {'file': ('posts.json', f)}\n",
    "    \n",
    "    http_response = requests.post(\n",
    "        presigned_post_response['url'], \n",
    "        data=presigned_post_response['fields'], \n",
    "        files=files\n",
    "    )\n",
    "\n",
    "print(http_response)  # 204 No Content: 伺服器成功處理了請求，沒有返回任何內容。"
   ]
  },
  {
   "cell_type": "code",
   "execution_count": null,
   "metadata": {},
   "outputs": [],
   "source": [
    "# list object from bucket 確認是否上傳成功\n",
    "\n",
    "response = s3_client.list_objects_v2(\n",
    "    Bucket='cxcxc-aws-certificate',\n",
    "    MaxKeys=10,\n",
    ")\n",
    "\n",
    "response"
   ]
  },
  {
   "cell_type": "code",
   "execution_count": null,
   "metadata": {},
   "outputs": [],
   "source": [
    "# 生成 presigned url，供下載使用\n",
    "\n",
    "presigned_url = s3_client.generate_presigned_url('get_object',\n",
    "    Params={'Bucket': 'cxcxc-aws-certificate',\n",
    "            'Key': 'cxcxc-pre-sign-upload.json'},\n",
    ")\n",
    "\n",
    "print(presigned_url)"
   ]
  },
  {
   "cell_type": "code",
   "execution_count": null,
   "metadata": {},
   "outputs": [],
   "source": [
    "# 透過request模組進行下載\n",
    "\n",
    "import requests\n",
    "import json\n",
    "\n",
    "url = 'http://localstack-main:4566/cxcxc-aws-certificate/cxcxc-pre-sign-upload.json'\n",
    "print(f'Beginning file download with requests from {presigned_url}')\n",
    "\n",
    "r = requests.get(presigned_url)\n",
    "print(r)\n",
    "\n",
    "with open('./cxcxc-pre-sign-url.json', 'w') as f:\n",
    "    json.dump(r.json(), f)\n",
    "    "
   ]
  },
  {
   "cell_type": "code",
   "execution_count": null,
   "metadata": {},
   "outputs": [],
   "source": []
  }
 ],
 "metadata": {
  "kernelspec": {
   "display_name": "Python 3",
   "language": "python",
   "name": "python3"
  },
  "language_info": {
   "codemirror_mode": {
    "name": "ipython",
    "version": 3
   },
   "file_extension": ".py",
   "mimetype": "text/x-python",
   "name": "python",
   "nbconvert_exporter": "python",
   "pygments_lexer": "ipython3",
   "version": "3.8.5"
  }
 },
 "nbformat": 4,
 "nbformat_minor": 4
}
